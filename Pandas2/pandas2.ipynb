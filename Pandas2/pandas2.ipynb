{
 "cells": [
  {
   "cell_type": "markdown",
   "metadata": {
    "colab_type": "text",
    "id": "-2R2EklVnwxF"
   },
   "source": [
    "# Pandas 2\n",
    "\n",
    "## Name\n",
    "\n",
    "## Class\n",
    "\n",
    "## Date"
   ]
  },
  {
   "cell_type": "code",
   "execution_count": null,
   "metadata": {
    "colab": {},
    "colab_type": "code",
    "id": "B4EqVNKaPFma"
   },
   "outputs": [],
   "source": [
    "import numpy as np\n",
    "import pandas as pd\n",
    "import matplotlib.pyplot as plt"
   ]
  },
  {
   "cell_type": "markdown",
   "metadata": {},
   "source": [
    "# Problem 1"
   ]
  },
  {
   "cell_type": "markdown",
   "metadata": {},
   "source": [
    "The file DJIA.csv contains daily closing values of the Dow Jones Industrial Average from \n",
    "2006–2016. \n",
    "\n",
    "Read the data into a Series or DataFrame with a DatetimeIndex as the index. \n",
    "\n",
    "Drop any rows without numerical values, cast the \"VALUE\" column to floats, then return the updated DataFrame."
   ]
  },
  {
   "cell_type": "code",
   "execution_count": null,
   "metadata": {},
   "outputs": [],
   "source": [
    "# Prob 1\n",
    "def prob1(file='DJIA.csv'):\n",
    "    \"\"\"\n",
    "\n",
    "    Read the data with a DatetimeIndex as the index.\n",
    "    Drop rows any rows without numerical values, cast the \"VALUE\" column to floats, then return the updated DataFrame.\n",
    "\n",
    "    Parameters:\n",
    "        file (str): data file\n",
    "    Returns:\n",
    "        df (DataFrame): updated DataFrame of stock market data\n",
    "    \"\"\"\n",
    "    raise NotImplementedError(\"Problem 1 Incomplete\")"
   ]
  },
  {
   "cell_type": "code",
   "execution_count": null,
   "metadata": {},
   "outputs": [],
   "source": [
    "prob1()"
   ]
  },
  {
   "cell_type": "markdown",
   "metadata": {},
   "source": [
    "# Problem 2"
   ]
  },
  {
   "cell_type": "markdown",
   "metadata": {},
   "source": [
    "The file `paychecks.csv` contains values of an hourly employee's last $93$ paychecks.\n",
    "Paychecks are given every other Friday, starting on March $14$, $2008$, and the employee began working on March $13$, $2008$.\n",
    "\n",
    "Read in the data using `pd.date_range()` to generate the `DatetimeIndex`.\n",
    "Set this as the new index of the `DataFrame` and return the `DataFrame`."
   ]
  },
  {
   "cell_type": "code",
   "execution_count": null,
   "metadata": {},
   "outputs": [],
   "source": [
    "def prob2(file='paychecks.csv'):\n",
    "    \"\"\"\n",
    "\n",
    "    Create data_range for index of paycheck data.\n",
    "\n",
    "    Parameters:\n",
    "        file (str): data file\n",
    "    Returns:\n",
    "        df (DataFrame): DataFrame of paycheck data\n",
    "    \"\"\"\n",
    "    raise NotImplementedError(\"Problem 2 Incomplete\")"
   ]
  },
  {
   "cell_type": "code",
   "execution_count": null,
   "metadata": {},
   "outputs": [],
   "source": [
    "prob2()"
   ]
  },
  {
   "cell_type": "markdown",
   "metadata": {},
   "source": [
    "# Problem 3"
   ]
  },
  {
   "cell_type": "markdown",
   "metadata": {},
   "source": [
    "Compute the following information about the DJIA dataset from problem 1 that has a `DatetimeIndex`:\n",
    "\n",
    "- The single day with the largest gain.\n",
    "- The single day with the largest loss.\n",
    "\n",
    "Return the `DatetimeIndex` of the day with the largest gain and the day with the largest loss as a tuple."
   ]
  },
  {
   "cell_type": "code",
   "execution_count": null,
   "metadata": {},
   "outputs": [],
   "source": [
    "def prob3(file='DJIA.csv'):\n",
    "    \"\"\"\n",
    "    Compute the following information about the DJIA dataset\n",
    "    1. The single day with the largest gain\n",
    "    2. The single day with the largest loss\n",
    "\n",
    "    Parameters:\n",
    "        file (str): data file\n",
    "    Returns:\n",
    "        max_day (<M8[ns]): DateTimeIndex of maximum change\n",
    "        min_day (<M8[ns]): DateTimeIndex of minimum change\n",
    "    \"\"\"\n",
    "    raise NotImplementedError(\"Problem 3 Incomplete\")"
   ]
  },
  {
   "cell_type": "code",
   "execution_count": null,
   "metadata": {},
   "outputs": [],
   "source": [
    "prob3()"
   ]
  },
  {
   "cell_type": "markdown",
   "metadata": {
    "colab_type": "text",
    "id": "uyGF9cEjsyFi"
   },
   "source": [
    "# Problem 4"
   ]
  },
  {
   "cell_type": "markdown",
   "metadata": {},
   "source": [
    "Using `crime_data.csv`, plot the trends between `Larceny` and the following variables:\n",
    "\n",
    "`Violent`,\n",
    "\n",
    "`Burglary`,\n",
    "\n",
    "`Aggravated Assault`.\n",
    "\n",
    "One of these variables does not have a linear trend with `Larceny`. Return a string identifying this variable (you’re welcome to hard-code this value after observing the data)."
   ]
  },
  {
   "cell_type": "code",
   "execution_count": null,
   "metadata": {
    "colab": {},
    "colab_type": "code",
    "id": "DJD2o3UxQbYQ"
   },
   "outputs": [],
   "source": [
    "def prob4():\n",
    "    \"\"\"\n",
    "    Use crime_data.csv to plot the trends between Larceny and\n",
    "        1. Violent\n",
    "        2. Burglary\n",
    "        3. Aggravated Assault\n",
    "    Each graph should be clearly labelled and readable.\n",
    "    One of these variables does not have a linear trend with Larceny.\n",
    "    Return a string identifying this variable.\n",
    "    \"\"\"\n",
    "    raise NotImplementedError(\"Problem 4 Incomplete\")"
   ]
  },
  {
   "cell_type": "code",
   "execution_count": null,
   "metadata": {},
   "outputs": [],
   "source": [
    "prob4()"
   ]
  },
  {
   "cell_type": "markdown",
   "metadata": {
    "colab_type": "text",
    "id": "UUuNrP5UszZ6"
   },
   "source": [
    "# Problem 5"
   ]
  },
  {
   "cell_type": "markdown",
   "metadata": {},
   "source": [
    "Use `crime_data.csv` to display the following distributions:\n",
    "\n",
    "1) The distributions of `Burglary`, `Violent`, and `Vehicle Theft` as box plots,\n",
    "\n",
    "2) The distribution of `Vehicle Thefts` against `Robbery` as a hexbin plot."
   ]
  },
  {
   "cell_type": "code",
   "execution_count": null,
   "metadata": {
    "colab": {},
    "colab_type": "code",
    "id": "lWPH4Ay2Ux3f"
   },
   "outputs": [],
   "source": [
    "def prob5():\n",
    "    \"\"\"\n",
    "    Use crime_data.csv to display the following distributions.\n",
    "        1. The distributions of Burglary, Violent, and Vehicle Theft \n",
    "            as box plots\n",
    "        2. The distributions of Vehicle Thefts against Robberies as\n",
    "            a hexbin plot.\n",
    "    \"\"\"\n",
    "    raise NotImplementedError(\"Problem 5 Incomplete\")"
   ]
  },
  {
   "cell_type": "code",
   "execution_count": null,
   "metadata": {},
   "outputs": [],
   "source": [
    "prob5()"
   ]
  },
  {
   "cell_type": "markdown",
   "metadata": {
    "colab_type": "text",
    "id": "mhJbAS1ts0q5"
   },
   "source": [
    "# Problem 6"
   ]
  },
  {
   "cell_type": "markdown",
   "metadata": {},
   "source": [
    "Create three plots that compare variables or universities. These plots should answer questions about the data (e.g., What is the distribution of graduation rates? Do schools with lower student-to-faculty ratios have higher tuition costs? etc.). The dataset should be cited in your first plot as follows:\n",
    "\n",
    "James, G., Witten, D., Hastie, T., and Tibshirani, R. (2013) An Introduction to Statistical Learning with applications in R, www.StatLearning.com, Springer-Verlag, New York"
   ]
  },
  {
   "cell_type": "code",
   "execution_count": null,
   "metadata": {
    "colab": {},
    "colab_type": "code",
    "id": "OVF_p0fyZkXy"
   },
   "outputs": [],
   "source": [
    "def prob6():\n",
    "    \"\"\"\n",
    "    Create 3 plots that compare variables or universities.\n",
    "    These plots should answer questions about the data, \n",
    "    (e.g. What is the distribution of graduation rates? Do schools \n",
    "    with lower student to faculty ratios have higher tuition costs? \n",
    "    etc.). \n",
    "    You must include the following citation for the data\n",
    "    in your first plot: \n",
    "    James, G., Witten, D., Hastie, T., and Tibshirani, R. (2013)\n",
    "        An Introduction to Statistical Learning with applications in R, \n",
    "        www.StatLearning.com, Springer-Verlag, New York.\n",
    "    \"\"\"\n",
    "    raise NotImplementedError(\"Problem 6 Incomplete\")"
   ]
  },
  {
   "cell_type": "code",
   "execution_count": null,
   "metadata": {},
   "outputs": [],
   "source": [
    "prob6()"
   ]
  }
 ],
 "metadata": {
  "colab": {
   "name": "pandas2.ipynb",
   "provenance": [],
   "version": "0.3.2"
  },
  "kernelspec": {
   "display_name": "LabDev",
   "language": "python",
   "name": "python3"
  },
  "language_info": {
   "codemirror_mode": {
    "name": "ipython",
    "version": 3
   },
   "file_extension": ".py",
   "mimetype": "text/x-python",
   "name": "python",
   "nbconvert_exporter": "python",
   "pygments_lexer": "ipython3",
   "version": "3.10.17"
  }
 },
 "nbformat": 4,
 "nbformat_minor": 1
}
